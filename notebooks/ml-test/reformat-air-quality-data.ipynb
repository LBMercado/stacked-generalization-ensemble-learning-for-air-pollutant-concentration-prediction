{
 "cells": [
  {
   "cell_type": "markdown",
   "metadata": {},
   "source": [
    "# Import libraries and create helper functions"
   ]
  },
  {
   "cell_type": "code",
   "execution_count": 1,
   "metadata": {},
   "outputs": [],
   "source": [
    "import csv, copy, json\n",
    "\n",
    "new_data = []\n",
    "\n",
    "def parse_wind_direction(deg):\n",
    "    if deg <= 11.25 or deg >= 348.75:\n",
    "        return 'N'\n",
    "    elif deg <= 56.25:\n",
    "        return 'NE'\n",
    "    elif deg <= 101.25:\n",
    "        return 'E'\n",
    "    elif deg <= 146.25:\n",
    "        return 'SE'\n",
    "    elif deg <= 191.25:\n",
    "        return 'S'\n",
    "    elif deg <= 236.25:\n",
    "        return 'SW'\n",
    "    elif deg <= 281.25:\n",
    "        return 'W'\n",
    "    else:\n",
    "        return 'NW'"
   ]
  },
  {
   "cell_type": "markdown",
   "metadata": {},
   "source": [
    "# Process and store the raw data"
   ]
  },
  {
   "cell_type": "code",
   "execution_count": 2,
   "metadata": {},
   "outputs": [
    {
     "name": "stdout",
     "output_type": "stream",
     "text": [
      "Column names are Temperature (Â°C), Humidity (%RH), PM25 (ug/m3), CO (PPM), NO2 (PPM), O3 (PPB), Wind Speed (m/s), Wind Direction, api_weather, api_wind, date\n",
      "Processed 3265 lines.\n"
     ]
    }
   ],
   "source": [
    "with open('air-quality-data.csv', mode='r') as csv_file:\n",
    "    csv_reader = csv.DictReader(csv_file)\n",
    "    line_count = 0\n",
    "    for row in csv_reader:\n",
    "        if line_count == 0:\n",
    "            print(f'Column names are {\", \".join(row)}')\n",
    "        else:\n",
    "            new_row = copy.deepcopy(row)\n",
    "            new_row['api_wind'] = new_row['api_wind'].replace('\\'', '\\\"')\n",
    "            api_data = json.loads(new_row['api_wind'])\n",
    "            new_row['Wind Speed (m/s)'] = api_data['speed']\n",
    "            new_row['Wind Direction'] = parse_wind_direction(api_data['deg'])\n",
    "            del new_row['api_wind']\n",
    "            new_data.append(new_row)\n",
    "        line_count += 1\n",
    "    print(f'Processed {line_count} lines.')"
   ]
  },
  {
   "cell_type": "markdown",
   "metadata": {},
   "source": [
    "# Write the processed data to file"
   ]
  },
  {
   "cell_type": "code",
   "execution_count": 3,
   "metadata": {},
   "outputs": [],
   "source": [
    "with open('f-air-quality-data.csv', mode='w') as csv_file:\n",
    "    field_names = new_data[0].keys()\n",
    "    csv_writer = csv.DictWriter(csv_file, fieldnames=field_names)\n",
    "    \n",
    "    csv_writer.writeheader()\n",
    "    for data in new_data:\n",
    "        csv_writer.writerow(data)"
   ]
  },
  {
   "cell_type": "code",
   "execution_count": null,
   "metadata": {},
   "outputs": [],
   "source": []
  }
 ],
 "metadata": {
  "kernelspec": {
   "display_name": "Python 3",
   "language": "python",
   "name": "python3"
  },
  "language_info": {
   "codemirror_mode": {
    "name": "ipython",
    "version": 3
   },
   "file_extension": ".py",
   "mimetype": "text/x-python",
   "name": "python",
   "nbconvert_exporter": "python",
   "pygments_lexer": "ipython3",
   "version": "3.7.9"
  }
 },
 "nbformat": 4,
 "nbformat_minor": 4
}
